{
 "cells": [
  {
   "cell_type": "markdown",
   "id": "132b89bf",
   "metadata": {},
   "source": [
    "# **ML MODEL**"
   ]
  },
  {
   "cell_type": "code",
   "execution_count": 1,
   "id": "de510631",
   "metadata": {},
   "outputs": [
    {
     "name": "stdout",
     "output_type": "stream",
     "text": [
      "Model accuracy: 0.97847533632287\n"
     ]
    }
   ],
   "source": [
    "# ML\n",
    "\n",
    "import pandas as pd\n",
    "import numpy as np\n",
    "from sklearn.feature_extraction.text import CountVectorizer\n",
    "from sklearn.model_selection import train_test_split\n",
    "from sklearn.naive_bayes import MultinomialNB\n",
    "\n",
    "# Load the spam dataset\n",
    "data = pd.read_csv(\"spam.csv\", encoding=\"latin-1\")\n",
    "data.drop(['Unnamed: 2', 'Unnamed: 3', 'Unnamed: 4'], axis=1, inplace=True)\n",
    "data['class'] = data['class'].map({'ham':0, 'spam':1})\n",
    "\n",
    "# Preprocess the data\n",
    "cv = CountVectorizer()\n",
    "X = cv.fit_transform(data['message'])\n",
    "y = data['class']\n",
    "\n",
    "# Split the data into training and testing sets\n",
    "x_train, x_test, y_train, y_test = train_test_split(X, y, test_size=0.2, random_state=42)\n",
    "\n",
    "# Train the model\n",
    "model = MultinomialNB()\n",
    "model.fit(x_train, y_train)\n",
    "\n",
    "# Evaluate the model on the test set\n",
    "score = model.score(x_test, y_test)\n",
    "print(\"Model accuracy:\", score)"
   ]
  },
  {
   "cell_type": "markdown",
   "id": "dd809ff2",
   "metadata": {},
   "source": [
    "# **SERVER CODE**"
   ]
  },
  {
   "cell_type": "code",
   "execution_count": null,
   "id": "65ccbbd5",
   "metadata": {},
   "outputs": [
    {
     "name": "stdout",
     "output_type": "stream",
     "text": [
      "Listening on 10.14.143.223:2000...\n",
      "Connected by ('10.14.143.223', 57945)\n",
      "Received message: Hi, you just won $400 $\n",
      "Connected by ('10.14.143.223', 57960)\n",
      "Received message: Hi, Lakshya confirm your Job update on LinkedIn $\n",
      "Connected by ('10.14.143.223', 57981)\n",
      "Received message: Hi, you just won a voucher of Universal Studios worth $499\n"
     ]
    }
   ],
   "source": [
    "# SERVER \n",
    "\n",
    "import socket\n",
    "\n",
    "# Set up the socket\n",
    "HOST = '10.14.143.223'  # localhost\n",
    "PORT = 2000      # arbitrary non-privileged port\n",
    "with socket.socket(socket.AF_INET, socket.SOCK_STREAM) as s:\n",
    "    s.bind((HOST, PORT))\n",
    "    s.listen()\n",
    "    print(f\"Listening on {HOST}:{PORT}...\")\n",
    "\n",
    "    while True:\n",
    "        # Wait for a client to connect\n",
    "        conn, addr = s.accept()\n",
    "        print(f\"Connected by {addr}\")\n",
    "\n",
    "        # Receive the message from the client\n",
    "        with conn:\n",
    "            msg = conn.recv(1024).decode()\n",
    "            print(f\"Received message: {msg}\")\n",
    "\n",
    "            # Use the model to predict whether the message is spam or not\n",
    "            data = [msg]\n",
    "            vect = cv.transform(data).toarray()\n",
    "            my_prediction = model.predict(vect)\n",
    "            if my_prediction[0] == 1:\n",
    "                response = \"This is a Spam E-mail\"\n",
    "            else:\n",
    "                response = \"This is not a Spam E-mail\"\n",
    "\n",
    "            # Send the prediction back to the client\n",
    "            conn.sendall(response.encode())"
   ]
  },
  {
   "cell_type": "code",
   "execution_count": null,
   "id": "3875bd33",
   "metadata": {},
   "outputs": [],
   "source": []
  }
 ],
 "metadata": {
  "kernelspec": {
   "display_name": "Python 3 (ipykernel)",
   "language": "python",
   "name": "python3"
  },
  "language_info": {
   "codemirror_mode": {
    "name": "ipython",
    "version": 3
   },
   "file_extension": ".py",
   "mimetype": "text/x-python",
   "name": "python",
   "nbconvert_exporter": "python",
   "pygments_lexer": "ipython3",
   "version": "3.9.7"
  }
 },
 "nbformat": 4,
 "nbformat_minor": 5
}
