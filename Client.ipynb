{
 "cells": [
  {
   "cell_type": "markdown",
   "id": "159be024",
   "metadata": {},
   "source": [
    "# Client"
   ]
  },
  {
   "cell_type": "code",
   "execution_count": 4,
   "id": "a12ea74e",
   "metadata": {},
   "outputs": [
    {
     "name": "stdout",
     "output_type": "stream",
     "text": [
      "Connected to 10.14.143.223:2000...\n",
      "Server response: This is a Spam E-mail\n"
     ]
    }
   ],
   "source": [
    "import socket\n",
    "\n",
    "# Set up the socket\n",
    "HOST = '10.14.143.223'  # localhost\n",
    "PORT = 2000        # arbitrary non-privileged port\n",
    "with socket.socket(socket.AF_INET, socket.SOCK_STREAM) as s:\n",
    "    s.connect((HOST, PORT))\n",
    "    print(f\"Connected to {HOST}:{PORT}...\")\n",
    "\n",
    "    # Send a message to the server\n",
    "    msg = \"Hi, you just won a voucher of Universal Studios worth $499\"\n",
    "    s.sendall(msg.encode())\n",
    "\n",
    "    # Receive the prediction from the server\n",
    "    response = s.recv(1024).decode()\n",
    "    print(f\"Server response: {response}\")"
   ]
  },
  {
   "cell_type": "code",
   "execution_count": null,
   "id": "0e8646bc",
   "metadata": {},
   "outputs": [],
   "source": []
  }
 ],
 "metadata": {
  "kernelspec": {
   "display_name": "Python 3 (ipykernel)",
   "language": "python",
   "name": "python3"
  },
  "language_info": {
   "codemirror_mode": {
    "name": "ipython",
    "version": 3
   },
   "file_extension": ".py",
   "mimetype": "text/x-python",
   "name": "python",
   "nbconvert_exporter": "python",
   "pygments_lexer": "ipython3",
   "version": "3.9.7"
  }
 },
 "nbformat": 4,
 "nbformat_minor": 5
}
